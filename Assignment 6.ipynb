{
 "cells": [
  {
   "cell_type": "markdown",
   "metadata": {},
   "source": []
  },
  {
   "cell_type": "markdown",
   "metadata": {},
   "source": [
    "Question: Define Object Oriented Programming Language?\n",
    "\n",
    "Answer: Python Support Multiple Programming aproach and one of them is OOP(Object oriented Programming) in which we use object to represent real world entities to easily solve programming problems.\n",
    "\n",
    "Question: List down the Benefits of OOP?\n",
    "\n",
    "Answer: OOP has many benefits among few of them are following:\n",
    "\n",
    "Reusability of code\n",
    "Reusability of Object throughout application\n",
    "Easy to maintain and update\n",
    "Modular structure to get rid of large scale changes\n",
    "Easy to understand\n",
    "OOP Enforce rules to increase productivity\n",
    "etc\n",
    "\n",
    "Question: Differentiate between function and method?\n",
    "\n",
    "Answer: Difference between functions and methods are as follows:\n",
    "\n",
    "Functions can be defined outside of class while Method cannot be defined outside of class\n",
    "Functions were also a part of structured programming while Method are part of OOP\n",
    "Function return something while method doesn't\n",
    "\n",
    "Question: Define Class, Object, attribute and behavior\n",
    "\n",
    "Object: An object hold data and functions which operate on that holding data. \n",
    "\n",
    "Class: Class is an special kind of object and in most commonly consider as blueprint which can be used as template to create instance of itself. \n",
    "\n",
    "Attribute: Attribute store information about instance. Behavior: Behavior determine operation of instance."
   ]
  },
  {
   "cell_type": "code",
   "execution_count": 3,
   "metadata": {},
   "outputs": [
    {
     "name": "stdout",
     "output_type": "stream",
     "text": [
      "Car Model: \t 101EX\n",
      "Car name: \t Rolls-Royce\n",
      "Car Color: \t Blue\n",
      "Car Made: \t 2004\n",
      "Car Type: \t concept car \n",
      "\n",
      "Yes Boss ?\n",
      "Engine started over voice\n",
      "Engine stopped over voice\n"
     ]
    }
   ],
   "source": [
    "class car:\n",
    "    model = \"101EX\"\n",
    "    name = \"Rolls-Royce\"\n",
    "    color = \"Blue\"\n",
    "    made = \"2004\"\n",
    "    typ = \"concept car\"\n",
    "    \n",
    "    def vcontrol(voice):\n",
    "        print(\"Yes Boss ?\")\n",
    "    def start(voice):\n",
    "        print(\"Engine started over voice\")\n",
    "    def stop(voice):\n",
    "        print(\"Engine stopped over voice\")\n",
    "        \n",
    "\n",
    "car_m = car()\n",
    "car_n = car()\n",
    "car_c = car()\n",
    "car_md = car()\n",
    "car_t = car()\n",
    "\n",
    "\n",
    "car_a = car()\n",
    "\n",
    "print(\"Car Model: \\t\",car_m.model)\n",
    "print(\"Car name: \\t\",car_n.name)\n",
    "print(\"Car Color: \\t\",car_c.color)\n",
    "print(\"Car Made: \\t\",car_md.made)\n",
    "print(\"Car Type: \\t\",car_t.typ,\"\\n\")\n",
    "\n",
    "car_a.vcontrol()\n",
    "car_a.start()\n",
    "car_a.stop()"
   ]
  },
  {
   "cell_type": "code",
   "execution_count": null,
   "metadata": {},
   "outputs": [],
   "source": []
  }
 ],
 "metadata": {
  "kernelspec": {
   "display_name": "Python 3",
   "language": "python",
   "name": "python3"
  },
  "language_info": {
   "codemirror_mode": {
    "name": "ipython",
    "version": 3
   },
   "file_extension": ".py",
   "mimetype": "text/x-python",
   "name": "python",
   "nbconvert_exporter": "python",
   "pygments_lexer": "ipython3",
   "version": "3.7.4"
  }
 },
 "nbformat": 4,
 "nbformat_minor": 2
}
