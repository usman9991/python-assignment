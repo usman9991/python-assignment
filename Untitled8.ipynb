{
 "cells": [
  {
   "cell_type": "code",
   "execution_count": 8,
   "metadata": {},
   "outputs": [
    {
     "name": "stdin",
     "output_type": "stream",
     "text": [
      "enter you first subject's number 90\n",
      "enter you second subject's number 60\n",
      "enter you third subject's number 50\n",
      "enter you fourth subject's number 90\n",
      "enter you fifth subject's number 85\n"
     ]
    },
    {
     "name": "stdout",
     "output_type": "stream",
     "text": [
      "Congratulation Your Grade is A\n"
     ]
    }
   ],
   "source": [
    "a = int(input(\"enter you first subject's number\"))\n",
    "b = int(input(\"enter you second subject's number\"))\n",
    "c = int(input(\"enter you third subject's number\"))\n",
    "d = int(input(\"enter you fourth subject's number\"))\n",
    "e = int(input(\"enter you fifth subject's number\"))\n",
    "\n",
    "total = a+b+c+d+e;\n",
    "grade = (total/500)*100\n",
    "\n",
    "if grade >=80:\n",
    "    print(\"Congratulation Your Grade is A+\")\n",
    "elif grade >=70 and grade <80:\n",
    "    print(\"Congratulation Your Grade is A\")\n",
    "elif grade >=60 and grade <70:\n",
    "    print(\"Congratulation Your Grade is B\")\n",
    "elif grade >=50 and grade <60:\n",
    "    print(\"Congratulation Your Grade is C\")\n",
    "else:\n",
    "    print(\"Fail\")"
   ]
  },
  {
   "cell_type": "code",
   "execution_count": 10,
   "metadata": {},
   "outputs": [
    {
     "name": "stdin",
     "output_type": "stream",
     "text": [
      "Enter your number  3\n"
     ]
    },
    {
     "name": "stdout",
     "output_type": "stream",
     "text": [
      "your Number is odd\n"
     ]
    }
   ],
   "source": [
    "number = int(input(\"Enter your number \"))\n",
    "\n",
    "if number % 2==0:\n",
    "    print(\"your Number is even\")\n",
    "else:\n",
    "    print(\"your Number is odd\")"
   ]
  },
  {
   "cell_type": "code",
   "execution_count": 12,
   "metadata": {},
   "outputs": [
    {
     "name": "stdout",
     "output_type": "stream",
     "text": [
      "10\n"
     ]
    }
   ],
   "source": [
    "list = [1, 11, 22, 33, 44, 55, 66, 77, 88, 99, ]\n",
    "print(len(list))"
   ]
  },
  {
   "cell_type": "code",
   "execution_count": 13,
   "metadata": {},
   "outputs": [
    {
     "name": "stdout",
     "output_type": "stream",
     "text": [
      "496\n"
     ]
    }
   ],
   "source": [
    "list = [1, 11, 22, 33, 44, 55, 66, 77, 88, 99,]\n",
    "print(sum(list))"
   ]
  },
  {
   "cell_type": "code",
   "execution_count": 14,
   "metadata": {},
   "outputs": [
    {
     "name": "stdout",
     "output_type": "stream",
     "text": [
      "99\n"
     ]
    }
   ],
   "source": [
    "list = [1, 11, 22, 33, 44, 55, 66, 77, 88, 99,]\n",
    "print(max(list))"
   ]
  },
  {
   "cell_type": "code",
   "execution_count": 16,
   "metadata": {},
   "outputs": [
    {
     "name": "stdout",
     "output_type": "stream",
     "text": [
      "1\n",
      "2\n",
      "4\n",
      "3\n"
     ]
    }
   ],
   "source": [
    "list = [1, 2, 4, 3, 11, 22, 33, 44, 55, 66, 77, 88, 99,]\n",
    "for i in list:\n",
    "    if i<5:\n",
    "        print(i)"
   ]
  },
  {
   "cell_type": "code",
   "execution_count": null,
   "metadata": {},
   "outputs": [],
   "source": []
  }
 ],
 "metadata": {
  "kernelspec": {
   "display_name": "Python 3",
   "language": "python",
   "name": "python3"
  },
  "language_info": {
   "codemirror_mode": {
    "name": "ipython",
    "version": 3
   },
   "file_extension": ".py",
   "mimetype": "text/x-python",
   "name": "python",
   "nbconvert_exporter": "python",
   "pygments_lexer": "ipython3",
   "version": "3.7.3"
  }
 },
 "nbformat": 4,
 "nbformat_minor": 4
}
