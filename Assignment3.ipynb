{
 "cells": [
  {
   "cell_type": "code",
   "execution_count": 1,
   "metadata": {},
   "outputs": [
    {
     "name": "stdout",
     "output_type": "stream",
     "text": [
      "Select Operation to Perform : \n",
      "1:Additioon \n",
      " 2:Subtraction \n",
      " 3:Multiplication \n",
      " 4:Division \n",
      " 5:Power\n"
     ]
    },
    {
     "name": "stdin",
     "output_type": "stream",
     "text": [
      "Enter Operation Code 5\n",
      "Enter First Number 5\n",
      "Enter Second Number 5\n"
     ]
    },
    {
     "name": "stdout",
     "output_type": "stream",
     "text": [
      "3125\n"
     ]
    }
   ],
   "source": [
    "print(\"Select Operation to Perform : \")\n",
    "print (\"1:Additioon \\n 2:Subtraction \\n 3:Multiplication \\n 4:Division \\n 5:Power\")\n",
    "op = input(\"Enter Operation Code\")\n",
    "\n",
    "num1 = int(input(\"Enter First Number\"))\n",
    "num2 = int(input(\"Enter Second Number\"))\n",
    "\n",
    "\n",
    "if op == \"1\":\n",
    "    print(num1+num2)\n",
    "elif op == \"2\":\n",
    "    print(num1-num2)\n",
    "elif op == \"3\":\n",
    "    print(num1/num2)\n",
    "elif op == \"4\":\n",
    "    print(num1*num2)\n",
    "elif op ==\"5\":\n",
    "    print (num1**num1)\n",
    "else:\n",
    "    print(\"No operation exist with this number\")"
   ]
  },
  {
   "cell_type": "code",
   "execution_count": 2,
   "metadata": {},
   "outputs": [
    {
     "name": "stdout",
     "output_type": "stream",
     "text": [
      "It has a numeric value of  9\n",
      "It has a numeric value of  4\n",
      "It has a numeric value of  1\n"
     ]
    }
   ],
   "source": [
    "list = ['usman','9','ahsan','4','saad','1']\n",
    "for i in list:\n",
    "    if i.isdigit():\n",
    "        print(\"It has a numeric value of \",i)"
   ]
  },
  {
   "cell_type": "code",
   "execution_count": 3,
   "metadata": {},
   "outputs": [
    {
     "name": "stdin",
     "output_type": "stream",
     "text": [
      "Input key\t father'name\n",
      "Input Value\t Ali\n"
     ]
    },
    {
     "name": "stdout",
     "output_type": "stream",
     "text": [
      "{'Name': 'usman', 'Education': 'Graduate', \"father'name\": 'Ali'}\n"
     ]
    }
   ],
   "source": [
    "a = {\n",
    "    \"Name\" : \"usman\",\n",
    "    \"Education\" : \"Graduate\"\n",
    "}\n",
    "\n",
    "key =input(\"Input key\\t\")\n",
    "val = input(\"Input Value\\t\")\n",
    "\n",
    "a.update({key:val})\n",
    "\n",
    "print(a)"
   ]
  },
  {
   "cell_type": "code",
   "execution_count": 4,
   "metadata": {},
   "outputs": [
    {
     "name": "stdout",
     "output_type": "stream",
     "text": [
      "16\n"
     ]
    }
   ],
   "source": [
    "dictionary={\n",
    "    \"com1\": 1, \n",
    "    \"com2\": 9,\n",
    "    \"com3\": 6\n",
    "}\n",
    "\n",
    "print(sum(dictionary.values()))"
   ]
  },
  {
   "cell_type": "code",
   "execution_count": 17,
   "metadata": {},
   "outputs": [
    {
     "name": "stdout",
     "output_type": "stream",
     "text": [
      "[1, 3, 5, 8, 12, 11]\n"
     ]
    }
   ],
   "source": [
    "list = [ 1,1,1,3,3,5,5,8,2,5,8,9,6,4,7,5,3,12,12,11,11]\n",
    "dup = []\n",
    "uniq = {}\n",
    "for x in list:\n",
    "   if x not in uniq:\n",
    "      uniq[x] = 1\n",
    "   else:\n",
    "      if uniq[x] == 1:\n",
    "         dup.append(x)\n",
    "      uniq[x] += 1\n",
    "print(dup)\n"
   ]
  },
  {
   "cell_type": "code",
   "execution_count": 18,
   "metadata": {},
   "outputs": [
    {
     "name": "stdin",
     "output_type": "stream",
     "text": [
      "Input Key to check\t c\n"
     ]
    },
    {
     "name": "stdout",
     "output_type": "stream",
     "text": [
      "This Key already exist in dictionary\n"
     ]
    }
   ],
   "source": [
    "a={\n",
    "    \"a\": 3, \n",
    "    \"b\": 4,\n",
    "    \"c\": 5\n",
    "}\n",
    "x = input(\"Input Key to check\\t\")\n",
    "if x in a:\n",
    "    print(\"This Key already exist in dictionary\")\n",
    "else:\n",
    "    print(\"This value doesnot exist\")\n"
   ]
  },
  {
   "cell_type": "code",
   "execution_count": null,
   "metadata": {},
   "outputs": [],
   "source": []
  }
 ],
 "metadata": {
  "kernelspec": {
   "display_name": "Python 3",
   "language": "python",
   "name": "python3"
  },
  "language_info": {
   "codemirror_mode": {
    "name": "ipython",
    "version": 3
   },
   "file_extension": ".py",
   "mimetype": "text/x-python",
   "name": "python",
   "nbconvert_exporter": "python",
   "pygments_lexer": "ipython3",
   "version": "3.7.3"
  }
 },
 "nbformat": 4,
 "nbformat_minor": 4
}
