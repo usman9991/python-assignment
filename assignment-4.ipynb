{
 "cells": [
  {
   "cell_type": "code",
   "execution_count": 2,
   "metadata": {},
   "outputs": [
    {
     "name": "stdout",
     "output_type": "stream",
     "text": [
      "Input First Name\tusman\n",
      "Input Last Name\tsaeed\n",
      "Input Age\t27\n",
      "Input City\tkarachi\n",
      "Input your Qualification\tinter\n",
      "{'First Name': 'usman', 'Last Name': 'saeed', 'Age': '27', 'City': 'karachi'}\n",
      "Is this your high Qualification ??? \n",
      "1.Yes\n",
      "2.No Update it\tgraduation\n",
      "\n",
      "After Deletion {'First Name': 'usman', 'Last Name': 'saeed', 'Age': '27', 'City': 'karachi'}\n"
     ]
    }
   ],
   "source": [
    "u = {}\n",
    "fname = input(\"Input First Name\\t\")\n",
    "lname = input(\"Input Last Name\\t\")\n",
    "age = input(\"Input Age\\t\")\n",
    "cty = input(\"Input City\\t\")\n",
    "qual = input(\"Input your Qualification\\t\")\n",
    "u.update({\"First Name\" : fname , \"Last Name\" : lname , \"Age\" : age , \"City\" : cty, \"Qualification\" : qual})\n",
    "print(d)\n",
    "op = input(\"Is this your high Qualification ??? \\n1.Yes\\n2.No Update it\\t\")\n",
    "\n",
    "if op == '1':\n",
    "    d.update({\"Qualification\" : qual})\n",
    "    print(d)\n",
    "elif op == '2':\n",
    "    qual = input(\"\\nInput Your High Qualification\\t\")\n",
    "    d.update({\"Qualification\" : qual})\n",
    "    print(\"\\nBefore Deletion\", d)\n",
    "\n",
    "u.pop('Qualification', None)\n",
    "print(\"\\nAfter Deletion\", d)"
   ]
  },
  {
   "cell_type": "code",
   "execution_count": 4,
   "metadata": {},
   "outputs": [
    {
     "name": "stdout",
     "output_type": "stream",
     "text": [
      "{'Country': 'Pakistan', 'Population': '15 Million', 'Fact': '6th Largest City in the World'}\n",
      "{'Country': 'England', 'Population': '9 Million', 'Fact': ' one of the richest cities, with more than 70 billionaires'}\n",
      "{'Country': 'France', 'Population': '2.1+ Million', 'Fact': 'It’s believed that Paris only has one stop sign in the entire city.'}\n",
      "\n",
      " {'Karachi': {'Country': 'Pakistan', 'Population': '15 Million', 'Fact': '6th Largest City in the World'}, 'London': {'Country': 'England', 'Population': '9 Million', 'Fact': ' one of the richest cities, with more than 70 billionaires'}, 'Paris': {'Country': 'France', 'Population': '2.1+ Million', 'Fact': 'It’s believed that Paris only has one stop sign in the entire city.'}}\n"
     ]
    }
   ],
   "source": [
    "cities = {\n",
    "    'Karachi' : {\"Country\": \"Pakistan\", \"Population\" : \"15 Million\", \"Fact\": \"6th Largest City in the World\"},\n",
    "    'London' : {\"Country\": \"England\", \"Population\" : \"9 Million\", \"Fact\": \" one of the richest cities, with more than 70 billionaires\"},\n",
    "    'Paris' : {\"Country\": \"France\", \"Population\" : \"2.1+ Million\", \"Fact\": \"It’s believed that Paris only has one stop sign in the entire city.\"}\n",
    "}\n",
    "print(cities['Karachi'])\n",
    "print(cities['London'])\n",
    "print(cities['Paris'])\n",
    "\n",
    "\n",
    "print(\"\\n\",cities)"
   ]
  },
  {
   "cell_type": "code",
   "execution_count": 1,
   "metadata": {},
   "outputs": [
    {
     "name": "stdout",
     "output_type": "stream",
     "text": [
      "Input your age for ticket price\t13\n",
      "Ticket Price is $15\n",
      "Input your age for ticket price\t3\n",
      "Your ticket is Free\n",
      "Input your age for ticket price\t12\n",
      "Ticket Price is $10\n"
     ]
    }
   ],
   "source": [
    "for count in range(0,3):\n",
    "    age = int(input(\"Input your age for ticket price\\t\"))\n",
    "    if age <= 3:\n",
    "        print(\"Your ticket is Free\")\n",
    "\n",
    "    elif age > 3 and age <= 12:\n",
    "        print(\"Ticket Price is $10\")\n",
    "    \n",
    "    else:\n",
    "        print(\"Ticket Price is $15\")"
   ]
  },
  {
   "cell_type": "code",
   "execution_count": 2,
   "metadata": {},
   "outputs": [
    {
     "name": "stdout",
     "output_type": "stream",
     "text": [
      "One of my favorite books is Alice in Wonderland\n"
     ]
    }
   ],
   "source": [
    "def favrt_book(name):\n",
    "    print(\"One of my favorite books is \" + name)\n",
    "    \n",
    "favrt_book(\"Alice in Wonderland\")"
   ]
  },
  {
   "cell_type": "code",
   "execution_count": 5,
   "metadata": {},
   "outputs": [
    {
     "name": "stdout",
     "output_type": "stream",
     "text": [
      "Input Number Between 1 to 30\t15\n",
      "\n",
      "Number is less than the number you guess\t\n",
      "Input Number Between 1 to 30\t5\n",
      "\n",
      "Number is greater than the number you guess\t\n",
      "Input Number Between 1 to 30\t8\n",
      "\n",
      "Number is greater than the number you guess\t\n",
      "Your Input is : 8\n",
      "Randome Number is : 13\n"
     ]
    }
   ],
   "source": [
    "import random\n",
    "\n",
    "num = random.randint(1,30)\n",
    "for count in range(0,3):\n",
    "    guess = int(input(\"Input Number Between 1 to 30\\t\"))\n",
    "    if guess == num:\n",
    "        print(\"\\nYou guess the right Number\")\n",
    "    elif guess > num:\n",
    "        print(\"\\nNumber is less than the number you guess\\t\")\n",
    "    elif guess < num:\n",
    "        print(\"\\nNumber is greater than the number you guess\\t\")\n",
    "       \n",
    "print(\"Your Input is :\", guess)\n",
    "print(\"Randome Number is :\", num)"
   ]
  },
  {
   "cell_type": "code",
   "execution_count": null,
   "metadata": {},
   "outputs": [],
   "source": []
  }
 ],
 "metadata": {
  "kernelspec": {
   "display_name": "Python 3",
   "language": "python",
   "name": "python3"
  },
  "language_info": {
   "codemirror_mode": {
    "name": "ipython",
    "version": 3
   },
   "file_extension": ".py",
   "mimetype": "text/x-python",
   "name": "python",
   "nbconvert_exporter": "python",
   "pygments_lexer": "ipython3",
   "version": "3.7.4"
  }
 },
 "nbformat": 4,
 "nbformat_minor": 2
}
