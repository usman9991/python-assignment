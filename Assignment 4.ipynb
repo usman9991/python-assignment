{
 "cells": [
  {
   "cell_type": "code",
   "execution_count": 2,
   "metadata": {},
   "outputs": [
    {
     "name": "stdout",
     "output_type": "stream",
     "text": [
      "Input First Name\tUsman\n",
      "Input Last Name\tAhmed\n",
      "Input Age\t27\n",
      "Input City\tKarachi\n",
      "Input your Qualification\tInter\n",
      "{'First Name': 'Usman', 'Last Name': 'Ahmed', 'Age': '27', 'City': 'Karachi', 'Qualification': 'Inter'}\n",
      "Is this your high Qualification ??? \n",
      "1.Yes\n",
      "2.No Update it\t2\n",
      "\n",
      "Input Your High Qualification\tGraduate\n",
      "\n",
      "Before Deletion {'First Name': 'Usman', 'Last Name': 'Ahmed', 'Age': '27', 'City': 'Karachi', 'Qualification': 'Graduate'}\n",
      "\n",
      "After Deletion {'First Name': 'Usman', 'Last Name': 'Ahmed', 'Age': '27', 'City': 'Karachi'}\n"
     ]
    }
   ],
   "source": [
    "d = {}\n",
    "fname = input(\"Input First Name\\t\")\n",
    "lname = input(\"Input Last Name\\t\")\n",
    "age = input(\"Input Age\\t\")\n",
    "cty = input(\"Input City\\t\")\n",
    "qual = input(\"Input your Qualification\\t\")\n",
    "d.update({\"First Name\" : fname , \"Last Name\" : lname , \"Age\" : age , \"City\" : cty, \"Qualification\" : qual})\n",
    "print(d)\n",
    "op = input(\"Is this your high Qualification ??? \\n1.Yes\\n2.No Update it\\t\")\n",
    "\n",
    "if op == '1':\n",
    "    d.update({\"Qualification\" : qual})\n",
    "    print(d)\n",
    "elif op == '2':\n",
    "    qual = input(\"\\nInput Your High Qualification\\t\")\n",
    "    d.update({\"Qualification\" : qual})\n",
    "    print(\"\\nBefore Deletion\", d)\n",
    "\n",
    "d.pop('Qualification', None)\n",
    "print(\"\\nAfter Deletion\", d)"
   ]
  },
  {
   "cell_type": "code",
   "execution_count": 3,
   "metadata": {},
   "outputs": [
    {
     "name": "stdout",
     "output_type": "stream",
     "text": [
      "{'Country': 'Pakistan', 'Population': '15 Million', 'Fact': '6th Largest City in the World'}\n",
      "{'Country': 'England', 'Population': '9 Million', 'Fact': ' one of the richest cities, with more than 70 billionaires'}\n",
      "{'Country': 'France', 'Population': '2.1+ Million', 'Fact': 'It’s believed that Paris only has one stop sign in the entire city.'}\n",
      "\n",
      " {'Karachi': {'Country': 'Pakistan', 'Population': '15 Million', 'Fact': '6th Largest City in the World'}, 'London': {'Country': 'England', 'Population': '9 Million', 'Fact': ' one of the richest cities, with more than 70 billionaires'}, 'Paris': {'Country': 'France', 'Population': '2.1+ Million', 'Fact': 'It’s believed that Paris only has one stop sign in the entire city.'}}\n"
     ]
    }
   ],
   "source": [
    "\n",
    "cities = {\n",
    "    'Karachi' : {\"Country\": \"Pakistan\", \"Population\" : \"15 Million\", \"Fact\": \"6th Largest City in the World\"},\n",
    "    'London' : {\"Country\": \"England\", \"Population\" : \"9 Million\", \"Fact\": \" one of the richest cities, with more than 70 billionaires\"},\n",
    "    'Paris' : {\"Country\": \"France\", \"Population\" : \"2.1+ Million\", \"Fact\": \"It’s believed that Paris only has one stop sign in the entire city.\"}\n",
    "}\n",
    "print(cities['Karachi'])\n",
    "print(cities['London'])\n",
    "print(cities['Paris'])\n",
    "\n",
    "\n",
    "print(\"\\n\",cities)"
   ]
  },
  {
   "cell_type": "code",
   "execution_count": 4,
   "metadata": {},
   "outputs": [
    {
     "name": "stdout",
     "output_type": "stream",
     "text": [
      "Input your age for ticket price\t2\n",
      "Your ticket is Free\n",
      "Input your age for ticket price\t5\n",
      "Ticket Price is $10\n",
      "Input your age for ticket price\t13\n",
      "Ticket Price is $15\n"
     ]
    }
   ],
   "source": [
    "for count in range(0,3):\n",
    "    age = int(input(\"Input your age for ticket price\\t\"))\n",
    "    if age <= 3:\n",
    "        print(\"Your ticket is Free\")\n",
    "\n",
    "    elif age > 3 and age <= 12:\n",
    "        print(\"Ticket Price is $10\")\n",
    "    \n",
    "    else:\n",
    "        print(\"Ticket Price is $15\")\n"
   ]
  },
  {
   "cell_type": "code",
   "execution_count": 5,
   "metadata": {},
   "outputs": [
    {
     "name": "stdout",
     "output_type": "stream",
     "text": [
      "One of my favorite books is Alice in Wonderland\n"
     ]
    }
   ],
   "source": [
    "def favrt_book(name):\n",
    "    print(\"One of my favorite books is \" + name)\n",
    "    \n",
    "favrt_book(\"Alice in Wonderland\")"
   ]
  },
  {
   "cell_type": "code",
   "execution_count": 9,
   "metadata": {},
   "outputs": [
    {
     "name": "stdout",
     "output_type": "stream",
     "text": [
      "Input Number Between 1 to 30\t25\n",
      "\n",
      "Number is less than the number you guess\t\n",
      "Input Number Between 1 to 30\t15\n",
      "\n",
      "Number is greater than the number you guess\t\n",
      "Input Number Between 1 to 30\t20\n",
      "\n",
      "Number is greater than the number you guess\t\n",
      "Your Input is : 20\n",
      "\n",
      "Random Number is : 24\n"
     ]
    }
   ],
   "source": [
    "import random\n",
    "\n",
    "num = random.randint(1,30)\n",
    "for count in range(0,3):\n",
    "    guess = int(input(\"Input Number Between 1 to 30\\t\"))\n",
    "    if guess == num:\n",
    "        print(\"\\nYou guess the right Number\")\n",
    "    elif guess > num:\n",
    "        print(\"\\nNumber is less than the number you guess\\t\")\n",
    "    elif guess < num:\n",
    "        print(\"\\nNumber is greater than the number you guess\\t\")\n",
    "       \n",
    "print(\"Your Input is :\", str(guess) +\"\\n\")\n",
    "print(\"Random Number is :\", num)"
   ]
  },
  {
   "cell_type": "code",
   "execution_count": null,
   "metadata": {},
   "outputs": [],
   "source": []
  }
 ],
 "metadata": {
  "kernelspec": {
   "display_name": "Python 3",
   "language": "python",
   "name": "python3"
  },
  "language_info": {
   "codemirror_mode": {
    "name": "ipython",
    "version": 3
   },
   "file_extension": ".py",
   "mimetype": "text/x-python",
   "name": "python",
   "nbconvert_exporter": "python",
   "pygments_lexer": "ipython3",
   "version": "3.7.4"
  }
 },
 "nbformat": 4,
 "nbformat_minor": 2
}
